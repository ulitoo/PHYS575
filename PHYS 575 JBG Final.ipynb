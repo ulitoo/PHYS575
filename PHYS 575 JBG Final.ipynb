{
 "cells": [
  {
   "cell_type": "code",
   "execution_count": 11,
   "id": "51334d37-4fd5-4b3e-85c7-32f914a82891",
   "metadata": {},
   "outputs": [],
   "source": [
    "import numpy as np\n",
    "import matplotlib.pyplot as plt\n",
    "from math import pi\n",
    "import random\n",
    "import collections\n",
    "\n",
    "# Importing standard Qiskit libraries\n",
    "from qiskit import QuantumCircuit, transpile, Aer, IBMQ\n",
    "from qiskit.tools.jupyter import *\n",
    "from qiskit.visualization import *\n",
    "from ibm_quantum_widgets import *\n",
    "from qiskit.providers.aer import QasmSimulator\n",
    "from qiskit import QuantumCircuit, ClassicalRegister, QuantumRegister, transpile\n",
    "from qiskit.tools.visualization import circuit_drawer\n",
    "from qiskit.quantum_info import state_fidelity\n",
    "from qiskit import BasicAer\n",
    "\n",
    "#backend = BasicAer.get_backend('unitary_simulator')\n",
    "backend = BasicAer.get_backend('qasm_simulator')\n",
    "\n",
    "# Loading your IBM Quantum account(s)\n",
    "# provider = IBMQ.load_account()"
   ]
  },
  {
   "cell_type": "markdown",
   "id": "7e35a466-8b60-4b50-a42e-0491bf16a5b9",
   "metadata": {},
   "source": [
    "# CHSH Game\n",
    "In this Jupyter Notebook we will simulate the CHSH Game and how a Quantum Strategy with Entangled qubits can always beat the 75% maximum success rate of any Classical Strategy\n",
    "\n",
    "x,y are the values randomly sent by C (Charlie) to Alice and Bob and can be 0 or 1. \n",
    "\n",
    "a and b are the responses sent back to C by Alice and Bob. \n",
    "\n",
    "Game is won if (x AND y) is equal to (a XOR b)."
   ]
  },
  {
   "cell_type": "markdown",
   "id": "ea79025b-5d2c-48ce-8108-9978fc63c315",
   "metadata": {},
   "source": [
    "## Classic Strategy for the CHSH Game\n",
    "The best strategy is for Alice and Bob to agree on the same outcome and they will get 75% success rate at the most. In this code we clasically simulate the process"
   ]
  },
  {
   "cell_type": "code",
   "execution_count": 2,
   "id": "fbb53bac-dd75-47d4-8653-fca433f5aba2",
   "metadata": {},
   "outputs": [],
   "source": [
    "# x,y are the values randomly sent by C (Charlie) to Alice and Bob\n",
    "# a,b are the responses sent back to C by A and B\n",
    "# This function will return True or False under the Win conditions given x,y,a,b.\n",
    "def CHSHwin (x,y,a,b):\n",
    "        fromC = (x and y)\n",
    "        receivedfromC = (a ^ b)\n",
    "        \n",
    "        return  fromC == receivedfromC"
   ]
  },
  {
   "cell_type": "code",
   "execution_count": 3,
   "id": "f952e239-c65f-457a-ac06-1f548c4d438a",
   "metadata": {},
   "outputs": [],
   "source": [
    "# x,y are the values randomly sent by C (Charlie) to Alice and Bob\n",
    "# a,b are the responses sent back to C by A and B\n",
    "# Bob and Alice best classic strategy 75% success is to agree to send always the same. \n",
    "# 0 or 1 do not make any difference as long as they are the same \n",
    "def AliceClassicStrategy (x):\n",
    "      return  1\n",
    "\n",
    "def BobClassicStrategy (y):\n",
    "      return  1"
   ]
  },
  {
   "cell_type": "code",
   "execution_count": 4,
   "id": "b4f97b40-9a7c-41d0-9c37-5af2e2888f45",
   "metadata": {},
   "outputs": [
    {
     "name": "stdout",
     "output_type": "stream",
     "text": [
      "\u001b[1;3m 74.98 % Classic Success Rate\n"
     ]
    }
   ],
   "source": [
    "N = 100000\n",
    "success = 0\n",
    "for i in range(N):\n",
    "    x= random.randint(0,1)\n",
    "    y= random.randint(0,1)\n",
    "    result = CHSHwin(x,y,AliceClassicStrategy(x),BobClassicStrategy(y))\n",
    "    if result == True:\n",
    "        success += 1\n",
    "\n",
    "print ('\\033[1;3m',100*success/N,\"% Classic Success Rate\")"
   ]
  },
  {
   "cell_type": "markdown",
   "id": "e0a6cad4-5ae6-4e32-9fe8-c16c44a8aa95",
   "metadata": {},
   "source": [
    "## Classic Strategy Represented in Quantum Circuit\n",
    "Now we are going to create a quantum circuit to simulate random selection of x, y.\n",
    "Also we will use Qiskit simulation to get the results of the Classic Strategy"
   ]
  },
  {
   "cell_type": "code",
   "execution_count": 5,
   "id": "8b945cc4-7aab-48e2-a317-16eff2ed0cb6",
   "metadata": {},
   "outputs": [
    {
     "data": {
      "image/png": "[encoded data removed]",
      "text/plain": [
       "<Figure size 371.525x325.08 with 1 Axes>"
      ]
     },
     "execution_count": 5,
     "metadata": {},
     "output_type": "execute_result"
    }
   ],
   "source": [
    "x = QuantumRegister(1, name=\"x\")\n",
    "y = QuantumRegister(1, name=\"y\")\n",
    "c = ClassicalRegister(4, name=\"x,y,a,b\")\n",
    "a = QuantumRegister(1, name=\"a\")\n",
    "b = QuantumRegister(1, name=\"b\")\n",
    "\n",
    "qc = QuantumCircuit(x, y, a, b, c)\n",
    "\n",
    "qc.h(x[0])\n",
    "qc.h(y[0])\n",
    "qc.measure(x[0],c[0])\n",
    "qc.measure(y[0],c[1])\n",
    "qc.measure(a[0],c[2])\n",
    "qc.measure(b[0],c[3])\n",
    "\n",
    "qc.draw('mpl')"
   ]
  },
  {
   "cell_type": "markdown",
   "id": "873171ef-e137-4fd7-a495-2536773ba733",
   "metadata": {},
   "source": [
    "The simulation gill give how many hits each of the x,y,a,b combination will give"
   ]
  },
  {
   "cell_type": "code",
   "execution_count": 6,
   "id": "d8b5b8a2-4c34-4971-a5fc-6af970a97016",
   "metadata": {},
   "outputs": [
    {
     "name": "stdout",
     "output_type": "stream",
     "text": [
      "{'0011': 1973, '0000': 2032, '0001': 1992, '0010': 2003}\n"
     ]
    }
   ],
   "source": [
    "# Execute the job \n",
    "job = backend.run(transpile(qc, backend),shots=8000)\n",
    "counts = job.result().get_counts(qc)\n",
    "print (counts)"
   ]
  },
  {
   "cell_type": "markdown",
   "id": "7f09958a-8a4a-46f4-b005-488271a734ac",
   "metadata": {},
   "source": [
    "Following function will calculate the success rate of the experiment ( % of experiments that CHSH \"Won\" )"
   ]
  },
  {
   "cell_type": "code",
   "execution_count": 7,
   "id": "dbae33b1-1c09-4ba1-8a21-59d4eb627bad",
   "metadata": {},
   "outputs": [
    {
     "name": "stdout",
     "output_type": "stream",
     "text": [
      "\u001b[1;3m 75.3375 % Classic Success Rate\n"
     ]
    }
   ],
   "source": [
    "# Extract the results and see which ones is a win in CHCS Game\n",
    "def QuantumSuccessMetric(counts):\n",
    "    successes = collections.defaultdict(int)\n",
    "    failures = collections.defaultdict(int)\n",
    "    \n",
    "    for key, value in counts.items():\n",
    "        minisuccess = CHSHwin (int(key[3]),int(key[2]),int(key[1]),int(key[0]))\n",
    "        if minisuccess == True:\n",
    "            successes[key[0]] += value\n",
    "        else:\n",
    "            failures[key[0]] += value\n",
    "    return successes, failures\n",
    "\n",
    "sim_successes, sim_failures = QuantumSuccessMetric(counts)\n",
    "\n",
    "# PRINT percentage of the results were successful\n",
    "print ('\\033[1;3m',100*(sum(sim_successes.values()) / sum(counts.values())),\"% Classic Success Rate\")"
   ]
  },
  {
   "cell_type": "markdown",
   "id": "0d21aa62-a35f-43fe-9a9e-3b09df176426",
   "metadata": {},
   "source": [
    "## Now Lets explore the Quantum Strategy for CHSH Game with entangled Pairs\n",
    "Both Alice and Bob will share an entangled qubit pair\n",
    "\n",
    "\n",
    "Alice strategy will be to Measure in computational basis if she receives 0 ('x' = 0), and she will measure in $|+\\rangle$ / $|-\\rangle$ basis if she receives 1. Then she will return measurements result (0 or 1). Note that measuring in the $|+\\rangle$ / $|-\\rangle$ is like rotating the Bloch Sphere $\\pi/2$ along the Y axis.\n",
    "\n",
    "\n",
    "Bob strategy will be to rotate by an angle $\\pi/4$ or $-\\pi/4$ in the Bloch Sphere ( it is really $\\pi/8$ rotation in Hilbert Space ) depending if he receives 0 or 1 in 'y' value from Charlie. Then he will measure in computational basis and will return measurements result (0 or 1)"
   ]
  },
  {
   "cell_type": "code",
   "execution_count": 8,
   "id": "25f81f73-a3cc-404c-bd12-245f0add6a89",
   "metadata": {},
   "outputs": [
    {
     "data": {
      "image/png": "[encoded data removed]",
      "text/plain": [
       "<Figure size 672.525x325.08 with 1 Axes>"
      ]
     },
     "execution_count": 8,
     "metadata": {},
     "output_type": "execute_result"
    }
   ],
   "source": [
    "x = QuantumRegister(1, name=\"x\")\n",
    "y = QuantumRegister(1, name=\"y\")\n",
    "c = ClassicalRegister(4, name=\"x,y,a,b\")\n",
    "a = QuantumRegister(1, name=\"a\")\n",
    "b = QuantumRegister(1, name=\"b\")\n",
    "\n",
    "qc = QuantumCircuit(x, y, a, b, c)\n",
    "\n",
    "qc.h(x[0])\n",
    "qc.h(y[0])\n",
    "\n",
    "qc.measure(x[0],c[0])\n",
    "qc.measure(y[0],c[1])\n",
    "\n",
    "qc.h(a[0])\n",
    "qc.cnot(a[0],b[0])\n",
    "\n",
    "qc.ry(np.pi/2,a[0]).c_if(c[0],1)\n",
    "qc.measure(a[0],c[2])\n",
    "\n",
    "qc.ry(np.pi/4,b[0]).c_if(c[1],0)\n",
    "qc.ry(-np.pi/4,b[0]).c_if(c[1],1)\n",
    "qc.measure(b[0],c[3])\n",
    "\n",
    "qc.draw('mpl')"
   ]
  },
  {
   "cell_type": "markdown",
   "id": "5e1d3b6b-dece-4c3f-9026-63b902b80b73",
   "metadata": {},
   "source": [
    "The simulation gill give how many hits each of the x,y,a,b combination will give"
   ]
  },
  {
   "cell_type": "code",
   "execution_count": 9,
   "id": "d514a516-2dae-4d6e-b561-820d69c1f3ea",
   "metadata": {},
   "outputs": [
    {
     "name": "stdout",
     "output_type": "stream",
     "text": [
      "{'0101': 63, '0000': 396, '1101': 422, '0010': 457, '1100': 434, '0001': 429, '0111': 441, '1111': 65, '0100': 88, '1011': 419, '1110': 423, '1001': 96, '0110': 56, '0011': 76, '1000': 77, '1010': 58}\n"
     ]
    }
   ],
   "source": [
    "# Execute the job \n",
    "job = backend.run(transpile(qc, backend),shots=4000)\n",
    "counts = job.result().get_counts(qc)\n",
    "print (counts)"
   ]
  },
  {
   "cell_type": "markdown",
   "id": "b1b07fc2-6640-452b-a3b1-dcc2f387be6f",
   "metadata": {},
   "source": [
    "Following function will calculate the success rate of the experiment ( % of experiments that CHSH \"Won\" )"
   ]
  },
  {
   "cell_type": "code",
   "execution_count": 10,
   "id": "cd1bf2f9-a072-468d-b5e4-8c59349c3d2f",
   "metadata": {},
   "outputs": [
    {
     "name": "stdout",
     "output_type": "stream",
     "text": [
      "\u001b[1;3m 85.52499999999999 % Quantum CHSH Success Rate\n"
     ]
    }
   ],
   "source": [
    "sim_successes, sim_failures = QuantumSuccessMetric(counts)\n",
    "\n",
    "# PRINT percentage of the results were successful\n",
    "print ('\\033[1;3m',100*(sum(sim_successes.values()) / sum(counts.values())),\"% Quantum CHSH Success Rate\")"
   ]
  },
  {
   "cell_type": "markdown",
   "id": "d1d53197-4f4b-44bc-9534-ae40e5df55fe",
   "metadata": {},
   "source": [
    "As we can see the result of the experiment is near to the theoretical value $ {\\textstyle \\cos ^{2}\\left({\\frac {\\pi }{8}}\\right)=85.35533\\%\\approx 85\\%}$"
   ]
  }
 ],
 "metadata": {
  "kernelspec": {
   "display_name": "Python 3 (ipykernel)",
   "language": "python",
   "name": "python3"
  },
  "language_info": {
   "codemirror_mode": {
    "name": "ipython",
    "version": 3
   },
   "file_extension": ".py",
   "mimetype": "text/x-python",
   "name": "python",
   "nbconvert_exporter": "python",
   "pygments_lexer": "ipython3",
   "version": "3.8.13"
  },
  "widgets": {
   "application/vnd.jupyter.widget-state+json": {
    "state": {
     "07c476a440e943998a71f1c1fde40205": {
      "model_module": "@jupyter-widgets/controls",
      "model_module_version": "1.5.0",
      "model_name": "DescriptionStyleModel",
      "state": {
       "description_width": ""
      }
     },
     "0dd13ce1515e4ed3b239fe56f92c7e11": {
      "model_module": "@jupyter-widgets/controls",
      "model_module_version": "1.5.0",
      "model_name": "DescriptionStyleModel",
      "state": {
       "description_width": ""
      }
     },
     "0e0f6af9e55d4beb9aba89a47f47686e": {
      "model_module": "@jupyter-widgets/base",
      "model_module_version": "1.2.0",
      "model_name": "LayoutModel",
      "state": {
       "width": "70px"
      }
     },
     "39f156461f6a47a8920cd850e2267005": {
      "model_module": "@jupyter-widgets/base",
      "model_module_version": "1.2.0",
      "model_name": "LayoutModel",
      "state": {
       "grid_area": "right",
       "padding": "0px 0px 0px 0px",
       "width": "70px"
      }
     },
     "4a9afc3ca74d43948713d3b274fac576": {
      "model_module": "@jupyter-widgets/controls",
      "model_module_version": "1.5.0",
      "model_name": "DescriptionStyleModel",
      "state": {
       "description_width": ""
      }
     },
     "4acc005442c2479b9d18a0147492d0bb": {
      "model_module": "@jupyter-widgets/controls",
      "model_module_version": "1.5.0",
      "model_name": "HTMLModel",
      "state": {
       "layout": "IPY_MODEL_68c8da39d41b47d68e34453dc870f0ac",
       "style": "IPY_MODEL_0dd13ce1515e4ed3b239fe56f92c7e11",
       "value": "<p style='font-family: IBM Plex Sans, Arial, Helvetica, sans-serif; font-size: 20px; font-weight: medium;'>Circuit Properties</p>"
      }
     },
     "65615b5a9cfe4b2983deeb3ac4dad434": {
      "model_module": "@jupyter-widgets/base",
      "model_module_version": "1.2.0",
      "model_name": "LayoutModel",
      "state": {
       "grid_template_areas": "\n                                       \". . . . right \"\n                                        ",
       "grid_template_columns": "20% 20% 20% 20% 20%",
       "width": "100%"
      }
     },
     "688a42aeea4a46e68f8bc1c8495bf46e": {
      "model_module": "@jupyter-widgets/controls",
      "model_module_version": "1.5.0",
      "model_name": "ButtonModel",
      "state": {
       "button_style": "primary",
       "description": "Clear",
       "layout": "IPY_MODEL_39f156461f6a47a8920cd850e2267005",
       "style": "IPY_MODEL_c0b65a31379542fbb0b3179d692a13ab"
      }
     },
     "68c8da39d41b47d68e34453dc870f0ac": {
      "model_module": "@jupyter-widgets/base",
      "model_module_version": "1.2.0",
      "model_name": "LayoutModel",
      "state": {
       "margin": "0px 0px 10px 0px"
      }
     },
     "70c7dd97ca684cb8aa79f938e569439e": {
      "model_module": "@jupyter-widgets/controls",
      "model_module_version": "1.5.0",
      "model_name": "HTMLModel",
      "state": {
       "layout": "IPY_MODEL_0e0f6af9e55d4beb9aba89a47f47686e",
       "style": "IPY_MODEL_e05cb8f1a0e6469ca481898527e582d3",
       "value": "<h5>Queue</h5>"
      }
     },
     "7fc96291f14b40a287e2acf30bbea7b2": {
      "model_module": "@jupyter-widgets/base",
      "model_module_version": "1.2.0",
      "model_name": "LayoutModel",
      "state": {
       "width": "190px"
      }
     },
     "830ee2b07b1b431f974c8919a73f683b": {
      "model_module": "@jupyter-widgets/controls",
      "model_module_version": "1.5.0",
      "model_name": "HTMLModel",
      "state": {
       "layout": "IPY_MODEL_f464140d0e6e48c6aa30d333966d24c4",
       "style": "IPY_MODEL_e61ac680c5454bd9a517b15a2baa686b",
       "value": "<h5>Status</h5>"
      }
     },
     "9235cd9b678d4e69bc0314df6b3f0f43": {
      "model_module": "@jupyter-widgets/controls",
      "model_module_version": "1.5.0",
      "model_name": "DescriptionStyleModel",
      "state": {
       "description_width": ""
      }
     },
     "a0b7eff0724746e3bf131fca11e07a66": {
      "model_module": "@jupyter-widgets/base",
      "model_module_version": "1.2.0",
      "model_name": "LayoutModel",
      "state": {}
     },
     "a2200b1dbe9441e1a11ff00d35b2da07": {
      "model_module": "@jupyter-widgets/controls",
      "model_module_version": "1.5.0",
      "model_name": "HTMLModel",
      "state": {
       "layout": "IPY_MODEL_7fc96291f14b40a287e2acf30bbea7b2",
       "style": "IPY_MODEL_07c476a440e943998a71f1c1fde40205",
       "value": "<h5>Job ID</h5>"
      }
     },
     "b35a5fa1c1bd426e874c13d0ea94238a": {
      "model_module": "@jupyter-widgets/controls",
      "model_module_version": "1.5.0",
      "model_name": "GridBoxModel",
      "state": {
       "children": [
        "IPY_MODEL_688a42aeea4a46e68f8bc1c8495bf46e"
       ],
       "layout": "IPY_MODEL_65615b5a9cfe4b2983deeb3ac4dad434"
      }
     },
     "c0b65a31379542fbb0b3179d692a13ab": {
      "model_module": "@jupyter-widgets/controls",
      "model_module_version": "1.5.0",
      "model_name": "ButtonStyleModel",
      "state": {}
     },
     "c0d7e7a59dad4ee4a2774506e0843522": {
      "model_module": "@jupyter-widgets/controls",
      "model_module_version": "1.5.0",
      "model_name": "HTMLModel",
      "state": {
       "layout": "IPY_MODEL_a0b7eff0724746e3bf131fca11e07a66",
       "style": "IPY_MODEL_4a9afc3ca74d43948713d3b274fac576",
       "value": "<h5>Message</h5>"
      }
     },
     "e05cb8f1a0e6469ca481898527e582d3": {
      "model_module": "@jupyter-widgets/controls",
      "model_module_version": "1.5.0",
      "model_name": "DescriptionStyleModel",
      "state": {
       "description_width": ""
      }
     },
     "e188fea40c8b4398a286f6a4a40f03f8": {
      "model_module": "@jupyter-widgets/controls",
      "model_module_version": "1.5.0",
      "model_name": "HTMLModel",
      "state": {
       "layout": "IPY_MODEL_feaefef3d2244e9ab2b5dcd2f4487485",
       "style": "IPY_MODEL_9235cd9b678d4e69bc0314df6b3f0f43",
       "value": "<h5>Backend</h5>"
      }
     },
     "e61ac680c5454bd9a517b15a2baa686b": {
      "model_module": "@jupyter-widgets/controls",
      "model_module_version": "1.5.0",
      "model_name": "DescriptionStyleModel",
      "state": {
       "description_width": ""
      }
     },
     "e9ab0c8f9bf7455094c69649ea0c83a9": {
      "model_module": "@jupyter-widgets/controls",
      "model_module_version": "1.5.0",
      "model_name": "HBoxModel",
      "state": {
       "children": [
        "IPY_MODEL_a2200b1dbe9441e1a11ff00d35b2da07",
        "IPY_MODEL_e188fea40c8b4398a286f6a4a40f03f8",
        "IPY_MODEL_830ee2b07b1b431f974c8919a73f683b",
        "IPY_MODEL_70c7dd97ca684cb8aa79f938e569439e",
        "IPY_MODEL_c0d7e7a59dad4ee4a2774506e0843522"
       ],
       "layout": "IPY_MODEL_f265cbe100eb4ee790151bc8ad54ec1c"
      }
     },
     "f265cbe100eb4ee790151bc8ad54ec1c": {
      "model_module": "@jupyter-widgets/base",
      "model_module_version": "1.2.0",
      "model_name": "LayoutModel",
      "state": {
       "margin": "0px 0px 0px 37px",
       "width": "600px"
      }
     },
     "f464140d0e6e48c6aa30d333966d24c4": {
      "model_module": "@jupyter-widgets/base",
      "model_module_version": "1.2.0",
      "model_name": "LayoutModel",
      "state": {
       "width": "95px"
      }
     },
     "feaefef3d2244e9ab2b5dcd2f4487485": {
      "model_module": "@jupyter-widgets/base",
      "model_module_version": "1.2.0",
      "model_name": "LayoutModel",
      "state": {
       "width": "145px"
      }
     }
    },
    "version_major": 2,
    "version_minor": 0
   }
  }
 },
 "nbformat": 4,
 "nbformat_minor": 5
}
