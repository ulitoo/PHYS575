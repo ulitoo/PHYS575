{
 "cells": [
  {
   "cell_type": "code",
   "execution_count": 145,
   "id": "51334d37-4fd5-4b3e-85c7-32f914a82891",
   "metadata": {},
   "outputs": [],
   "source": [
    "import numpy as np\n",
    "import matplotlib.pyplot as plt\n",
    "from math import pi\n",
    "import random\n",
    "\n",
    "# Importing standard Qiskit libraries\n",
    "from qiskit import QuantumCircuit, transpile, Aer, IBMQ\n",
    "from qiskit.tools.jupyter import *\n",
    "from qiskit.visualization import *\n",
    "from ibm_quantum_widgets import *\n",
    "from qiskit.providers.aer import QasmSimulator\n",
    "from qiskit import QuantumCircuit, ClassicalRegister, QuantumRegister, transpile\n",
    "from qiskit.tools.visualization import circuit_drawer\n",
    "from qiskit.quantum_info import state_fidelity\n",
    "from qiskit import BasicAer\n",
    "import collections\n",
    "\n",
    "#backend = BasicAer.get_backend('unitary_simulator')\n",
    "backend = BasicAer.get_backend('qasm_simulator')\n",
    "\n",
    "# Loading your IBM Quantum account(s)\n",
    "# provider = IBMQ.load_account()"
   ]
  },
  {
   "cell_type": "markdown",
   "id": "ea79025b-5d2c-48ce-8108-9978fc63c315",
   "metadata": {},
   "source": [
    "## Classic Strategy for the CHSH Game\n",
    "x,y are the values randomly sent by C (Charlie) to Alice and Bob. And a,b are the responses sent back to C by A and B. Game is won if x AND y is equal to a XOR b."
   ]
  },
  {
   "cell_type": "code",
   "execution_count": 146,
   "id": "fbb53bac-dd75-47d4-8653-fca433f5aba2",
   "metadata": {},
   "outputs": [],
   "source": [
    "# x,y are the values randomly sent by C (Charlie) to Alice and Bob\n",
    "# a,b are the responses sent back to C by A and B\n",
    "def CHSHwin (x,y,a,b):\n",
    "        fromC = (x and y)\n",
    "        receivedfromC = (a ^ b)\n",
    "        \n",
    "        return  fromC == receivedfromC"
   ]
  },
  {
   "cell_type": "code",
   "execution_count": 147,
   "id": "f952e239-c65f-457a-ac06-1f548c4d438a",
   "metadata": {},
   "outputs": [],
   "source": [
    "# x,y are the values randomly sent by C (Charlie) to Alice and Bob\n",
    "# a,b are the responses sent back to C by A and B\n",
    "# Bob and Alice best classic strategy 75% success is to agree to send always the same\n",
    "def AliceClassicStrategy (x):\n",
    "      return  1\n",
    "\n",
    "def BobClassicStrategy (y):\n",
    "      return  1"
   ]
  },
  {
   "cell_type": "code",
   "execution_count": 158,
   "id": "b4f97b40-9a7c-41d0-9c37-5af2e2888f45",
   "metadata": {},
   "outputs": [
    {
     "name": "stdout",
     "output_type": "stream",
     "text": [
      "75.073 % Classic Success Rate\n"
     ]
    }
   ],
   "source": [
    "N = 100000\n",
    "success = 0\n",
    "for i in range(N):\n",
    "    x= random.randint(0,1)\n",
    "    y= random.randint(0,1)\n",
    "    result = CHSHwin(x,y,AliceClassicStrategy(x),BobClassicStrategy(y))\n",
    "    if result == True:\n",
    "        success += 1\n",
    "\n",
    "print (100*success/N,\"% Classic Success Rate\")"
   ]
  },
  {
   "cell_type": "markdown",
   "id": "e0a6cad4-5ae6-4e32-9fe8-c16c44a8aa95",
   "metadata": {},
   "source": [
    "## Classic Strategy Represented in Quantum Circuit"
   ]
  },
  {
   "cell_type": "code",
   "execution_count": 173,
   "id": "8b945cc4-7aab-48e2-a317-16eff2ed0cb6",
   "metadata": {},
   "outputs": [
    {
     "data": {
      "image/png": "[encoded data removed]",
      "text/plain": [
       "<Figure size 394.751x325.08 with 1 Axes>"
      ]
     },
     "execution_count": 173,
     "metadata": {},
     "output_type": "execute_result"
    }
   ],
   "source": [
    "q = QuantumRegister(2, name=\"random\")\n",
    "c = ClassicalRegister(4, name=\"x,y,a,b\")\n",
    "ab = QuantumRegister(2, name=\"a&b\")\n",
    "#abclassic = ClassicalRegister(2, name=\"c.a&b\")\n",
    "#result = ClassicalRegister(1, name=\"result\")\n",
    "\n",
    "qc = QuantumCircuit(q, ab, c)\n",
    "\n",
    "qc.h(q[0])\n",
    "qc.h(q[1])\n",
    "qc.measure(q[0],c[0])\n",
    "qc.measure(q[1],c[1])\n",
    "qc.measure(ab[0],c[2])\n",
    "qc.measure(ab[1],c[3])\n",
    "\n",
    "qc.draw('mpl')\n"
   ]
  },
  {
   "cell_type": "code",
   "execution_count": 191,
   "id": "88fc9ca1-509a-4e77-b6e6-899f9db20544",
   "metadata": {},
   "outputs": [
    {
     "name": "stdout",
     "output_type": "stream",
     "text": [
      "{'0011': 2017, '0001': 2033, '0000': 1974, '0010': 1976}\n"
     ]
    }
   ],
   "source": [
    "# Execute the job \n",
    "job = backend.run(transpile(qc, backend),shots=8000)\n",
    "counts = job.result().get_counts(qc)\n",
    "print (counts)"
   ]
  },
  {
   "cell_type": "code",
   "execution_count": 192,
   "id": "dbae33b1-1c09-4ba1-8a21-59d4eb627bad",
   "metadata": {},
   "outputs": [
    {
     "name": "stdout",
     "output_type": "stream",
     "text": [
      "74.7875 % Classic Success Rate\n"
     ]
    }
   ],
   "source": [
    "# Extract the results and see which ones is a win in CHCS Game\n",
    "def QuantumSuccessMetric(counts):\n",
    "    successes = collections.defaultdict(int)\n",
    "    failures = collections.defaultdict(int)\n",
    "    \n",
    "    for key, value in counts.items():\n",
    "        minisuccess = CHSHwin (int(key[3]),int(key[2]),int(key[1]),int(key[0]))\n",
    "        if minisuccess == True:\n",
    "            successes[key[0]] += value\n",
    "        else:\n",
    "            failures[key[0]] += value\n",
    "    return successes, failures\n",
    "\n",
    "sim_successes, sim_failures = QuantumSuccessMetric(counts)\n",
    "\n",
    "# PRINT percentage of the results were successful\n",
    "print (100*(sum(sim_successes.values()) / sum(counts.values())),\"% Classic Success Rate\")"
   ]
  },
  {
   "cell_type": "markdown",
   "id": "0d21aa62-a35f-43fe-9a9e-3b09df176426",
   "metadata": {},
   "source": [
    "## Now Lets explore the Quantum Strategy for CHSH Game with entangled Pairs\n",
    "Both Alice and Bob will share an entangled qubit pair\n",
    "\n",
    "\n",
    "Alice strategy will be to Measure in computational basis if she receives 0 and measure in +,- basis if she receives 1. Then she will return measurements result (0 or 1)\n",
    "\n",
    "\n",
    "Bob strategy will be to rotate by an angle +pi/8 or -pi/8 depending if he receives 0 or 1 in y. Then he will measure in computational basis and will return measurements result (0 or 1)"
   ]
  },
  {
   "cell_type": "code",
   "execution_count": 54,
   "id": "25f81f73-a3cc-404c-bd12-245f0add6a89",
   "metadata": {},
   "outputs": [
    {
     "data": {
      "image/png": "[encoded data removed]",
      "text/plain": [
       "<Figure size 340.669x144.48 with 1 Axes>"
      ]
     },
     "execution_count": 54,
     "metadata": {},
     "output_type": "execute_result"
    }
   ],
   "source": [
    "q = QuantumRegister(1)\n",
    "c = ClassicalRegister(1)\n",
    "\n",
    "qc = QuantumCircuit(q, c)\n",
    "qc.h(q)\n",
    "qc.measure(q,c)\n",
    "qc.x(q[0]).c_if(c,1)\n",
    "qc.measure(q,c)\n",
    "qc.draw('mpl')\n",
    "\n"
   ]
  },
  {
   "cell_type": "code",
   "execution_count": 55,
   "id": "d514a516-2dae-4d6e-b561-820d69c1f3ea",
   "metadata": {},
   "outputs": [
    {
     "data": {
      "text/plain": [
       "{'0': 1024}"
      ]
     },
     "execution_count": 55,
     "metadata": {},
     "output_type": "execute_result"
    }
   ],
   "source": [
    "job = backend.run(transpile(qc, backend))\n",
    "job.result().get_counts(qc)"
   ]
  },
  {
   "cell_type": "code",
   "execution_count": null,
   "id": "2086ca81-39dd-442c-be9f-9ee9237e1267",
   "metadata": {},
   "outputs": [],
   "source": []
  },
  {
   "cell_type": "code",
   "execution_count": null,
   "id": "5cb71e1a-0248-451b-abbd-5aa5b1e793c9",
   "metadata": {},
   "outputs": [],
   "source": []
  }
 ],
 "metadata": {
  "kernelspec": {
   "display_name": "Python 3 (ipykernel)",
   "language": "python",
   "name": "python3"
  },
  "language_info": {
   "codemirror_mode": {
    "name": "ipython",
    "version": 3
   },
   "file_extension": ".py",
   "mimetype": "text/x-python",
   "name": "python",
   "nbconvert_exporter": "python",
   "pygments_lexer": "ipython3",
   "version": "3.8.13"
  },
  "widgets": {
   "application/vnd.jupyter.widget-state+json": {
    "state": {
     "0572592580734f5ea5decff21aee6b1e": {
      "model_module": "@jupyter-widgets/base",
      "model_module_version": "1.2.0",
      "model_name": "LayoutModel",
      "state": {
       "width": "95px"
      }
     },
     "09c2df816a3049bf9813f867384d53d4": {
      "model_module": "@jupyter-widgets/controls",
      "model_module_version": "1.5.0",
      "model_name": "GridBoxModel",
      "state": {
       "children": [
        "IPY_MODEL_836f1b91cb934561aef8f08c20c4a2a9"
       ],
       "layout": "IPY_MODEL_de4827ebc3b24352a747ebc2951a758b"
      }
     },
     "337073d9b857487496d9fafe867970a4": {
      "model_module": "@jupyter-widgets/base",
      "model_module_version": "1.2.0",
      "model_name": "LayoutModel",
      "state": {
       "grid_area": "right",
       "padding": "0px 0px 0px 0px",
       "width": "70px"
      }
     },
     "36feb24df61b4fed88610a3f5e547411": {
      "model_module": "@jupyter-widgets/controls",
      "model_module_version": "1.5.0",
      "model_name": "HTMLModel",
      "state": {
       "layout": "IPY_MODEL_d896e5795a88460488a0ab93b643ed16",
       "style": "IPY_MODEL_57fd80812c3243fc90006be5872c401d",
       "value": "<p style='font-family: IBM Plex Sans, Arial, Helvetica, sans-serif; font-size: 20px; font-weight: medium;'>Circuit Properties</p>"
      }
     },
     "46faca41752541c08d0a1395d9feb1f4": {
      "model_module": "@jupyter-widgets/base",
      "model_module_version": "1.2.0",
      "model_name": "LayoutModel",
      "state": {
       "width": "70px"
      }
     },
     "4eb20a25026c41f389660fa4b5a15946": {
      "model_module": "@jupyter-widgets/controls",
      "model_module_version": "1.5.0",
      "model_name": "HTMLModel",
      "state": {
       "layout": "IPY_MODEL_a8225966e0684d2a8f0218aab1730a2c",
       "style": "IPY_MODEL_90eedaed258f4b948d4bfed546b8558e",
       "value": "<h5>Job ID</h5>"
      }
     },
     "57fd80812c3243fc90006be5872c401d": {
      "model_module": "@jupyter-widgets/controls",
      "model_module_version": "1.5.0",
      "model_name": "DescriptionStyleModel",
      "state": {
       "description_width": ""
      }
     },
     "5cd28896617a42acbaaff0eb75bdc27f": {
      "model_module": "@jupyter-widgets/controls",
      "model_module_version": "1.5.0",
      "model_name": "DescriptionStyleModel",
      "state": {
       "description_width": ""
      }
     },
     "6f2f4f4a450d4bd2b0f5c0b6493c6fc4": {
      "model_module": "@jupyter-widgets/controls",
      "model_module_version": "1.5.0",
      "model_name": "HTMLModel",
      "state": {
       "layout": "IPY_MODEL_46faca41752541c08d0a1395d9feb1f4",
       "style": "IPY_MODEL_c306b2febe424b96b11de456fed309e9",
       "value": "<h5>Queue</h5>"
      }
     },
     "7487429758c748e082378f9740878ae1": {
      "model_module": "@jupyter-widgets/controls",
      "model_module_version": "1.5.0",
      "model_name": "HBoxModel",
      "state": {
       "children": [
        "IPY_MODEL_4eb20a25026c41f389660fa4b5a15946",
        "IPY_MODEL_abb351f4484244df923b8565372f9dcd",
        "IPY_MODEL_b1b1070b6dfe4b8f90110b22a4b74573",
        "IPY_MODEL_6f2f4f4a450d4bd2b0f5c0b6493c6fc4",
        "IPY_MODEL_97d1a829355144c695ddcaf507966316"
       ],
       "layout": "IPY_MODEL_7edc2cf27d964a4696de9e08b6f99722"
      }
     },
     "7edc2cf27d964a4696de9e08b6f99722": {
      "model_module": "@jupyter-widgets/base",
      "model_module_version": "1.2.0",
      "model_name": "LayoutModel",
      "state": {
       "margin": "0px 0px 0px 37px",
       "width": "600px"
      }
     },
     "836f1b91cb934561aef8f08c20c4a2a9": {
      "model_module": "@jupyter-widgets/controls",
      "model_module_version": "1.5.0",
      "model_name": "ButtonModel",
      "state": {
       "button_style": "primary",
       "description": "Clear",
       "layout": "IPY_MODEL_337073d9b857487496d9fafe867970a4",
       "style": "IPY_MODEL_acc14a07aa454d79a90ee73aa1db57f6"
      }
     },
     "90eedaed258f4b948d4bfed546b8558e": {
      "model_module": "@jupyter-widgets/controls",
      "model_module_version": "1.5.0",
      "model_name": "DescriptionStyleModel",
      "state": {
       "description_width": ""
      }
     },
     "9395d40990c64c83b3e6f3233ef50bb2": {
      "model_module": "@jupyter-widgets/controls",
      "model_module_version": "1.5.0",
      "model_name": "DescriptionStyleModel",
      "state": {
       "description_width": ""
      }
     },
     "97d1a829355144c695ddcaf507966316": {
      "model_module": "@jupyter-widgets/controls",
      "model_module_version": "1.5.0",
      "model_name": "HTMLModel",
      "state": {
       "layout": "IPY_MODEL_ad5f4652c5e84436acf9999b4c18a085",
       "style": "IPY_MODEL_5cd28896617a42acbaaff0eb75bdc27f",
       "value": "<h5>Message</h5>"
      }
     },
     "a65b615f2252469fb9e3fa727b7294a1": {
      "model_module": "@jupyter-widgets/controls",
      "model_module_version": "1.5.0",
      "model_name": "DescriptionStyleModel",
      "state": {
       "description_width": ""
      }
     },
     "a8225966e0684d2a8f0218aab1730a2c": {
      "model_module": "@jupyter-widgets/base",
      "model_module_version": "1.2.0",
      "model_name": "LayoutModel",
      "state": {
       "width": "190px"
      }
     },
     "abb351f4484244df923b8565372f9dcd": {
      "model_module": "@jupyter-widgets/controls",
      "model_module_version": "1.5.0",
      "model_name": "HTMLModel",
      "state": {
       "layout": "IPY_MODEL_ed5494352a234718a43b793e8580ee45",
       "style": "IPY_MODEL_a65b615f2252469fb9e3fa727b7294a1",
       "value": "<h5>Backend</h5>"
      }
     },
     "acc14a07aa454d79a90ee73aa1db57f6": {
      "model_module": "@jupyter-widgets/controls",
      "model_module_version": "1.5.0",
      "model_name": "ButtonStyleModel",
      "state": {}
     },
     "ad5f4652c5e84436acf9999b4c18a085": {
      "model_module": "@jupyter-widgets/base",
      "model_module_version": "1.2.0",
      "model_name": "LayoutModel",
      "state": {}
     },
     "b1b1070b6dfe4b8f90110b22a4b74573": {
      "model_module": "@jupyter-widgets/controls",
      "model_module_version": "1.5.0",
      "model_name": "HTMLModel",
      "state": {
       "layout": "IPY_MODEL_0572592580734f5ea5decff21aee6b1e",
       "style": "IPY_MODEL_9395d40990c64c83b3e6f3233ef50bb2",
       "value": "<h5>Status</h5>"
      }
     },
     "c306b2febe424b96b11de456fed309e9": {
      "model_module": "@jupyter-widgets/controls",
      "model_module_version": "1.5.0",
      "model_name": "DescriptionStyleModel",
      "state": {
       "description_width": ""
      }
     },
     "d896e5795a88460488a0ab93b643ed16": {
      "model_module": "@jupyter-widgets/base",
      "model_module_version": "1.2.0",
      "model_name": "LayoutModel",
      "state": {
       "margin": "0px 0px 10px 0px"
      }
     },
     "de4827ebc3b24352a747ebc2951a758b": {
      "model_module": "@jupyter-widgets/base",
      "model_module_version": "1.2.0",
      "model_name": "LayoutModel",
      "state": {
       "grid_template_areas": "\n                                       \". . . . right \"\n                                        ",
       "grid_template_columns": "20% 20% 20% 20% 20%",
       "width": "100%"
      }
     },
     "ed5494352a234718a43b793e8580ee45": {
      "model_module": "@jupyter-widgets/base",
      "model_module_version": "1.2.0",
      "model_name": "LayoutModel",
      "state": {
       "width": "145px"
      }
     }
    },
    "version_major": 2,
    "version_minor": 0
   }
  }
 },
 "nbformat": 4,
 "nbformat_minor": 5
}
