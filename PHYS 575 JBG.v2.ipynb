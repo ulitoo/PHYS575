{
 "cells": [
  {
   "cell_type": "code",
   "execution_count": 11,
   "id": "51334d37-4fd5-4b3e-85c7-32f914a82891",
   "metadata": {},
   "outputs": [],
   "source": [
    "import numpy as np\n",
    "import matplotlib.pyplot as plt\n",
    "from math import pi\n",
    "import random\n",
    "import collections\n",
    "\n",
    "# Importing standard Qiskit libraries\n",
    "from qiskit import QuantumCircuit, transpile, Aer, IBMQ\n",
    "from qiskit.tools.jupyter import *\n",
    "from qiskit.visualization import *\n",
    "from ibm_quantum_widgets import *\n",
    "from qiskit.providers.aer import QasmSimulator\n",
    "from qiskit import QuantumCircuit, ClassicalRegister, QuantumRegister, transpile\n",
    "from qiskit.tools.visualization import circuit_drawer\n",
    "from qiskit.quantum_info import state_fidelity\n",
    "from qiskit import BasicAer\n",
    "\n",
    "#backend = BasicAer.get_backend('unitary_simulator')\n",
    "backend = BasicAer.get_backend('qasm_simulator')\n",
    "\n",
    "# Loading your IBM Quantum account(s)\n",
    "# provider = IBMQ.load_account()"
   ]
  },
  {
   "cell_type": "markdown",
   "id": "7e35a466-8b60-4b50-a42e-0491bf16a5b9",
   "metadata": {},
   "source": [
    "# CHSH Game\n",
    "In this Jupyter Notebook we will simulate the CHSH Game and how a Quantum Strategy with Entangled qubits can always beat the 75% maximum success rate of any Classical Strategy\n",
    "\n",
    "x,y are the values randomly sent by C (Charlie) to Alice and Bob and can be 0 or 1. \n",
    "\n",
    "a and b are the responses sent back to C by Alice and Bob. \n",
    "\n",
    "Game is won if (x AND y) is equal to (a XOR b)."
   ]
  },
  {
   "cell_type": "markdown",
   "id": "ea79025b-5d2c-48ce-8108-9978fc63c315",
   "metadata": {},
   "source": [
    "## Classic Strategy for the CHSH Game\n",
    "The best strategy is for Alice and Bob to agree on the same outcome and they will get 75% success rate at the most. In this code we clasically simulate the process"
   ]
  },
  {
   "cell_type": "code",
   "execution_count": 2,
   "id": "fbb53bac-dd75-47d4-8653-fca433f5aba2",
   "metadata": {},
   "outputs": [],
   "source": [
    "# x,y are the values randomly sent by C (Charlie) to Alice and Bob\n",
    "# a,b are the responses sent back to C by A and B\n",
    "# This function will return True or False under the Win conditions given x,y,a,b.\n",
    "def CHSHwin (x,y,a,b):\n",
    "        fromC = (x and y)\n",
    "        receivedfromC = (a ^ b)\n",
    "        \n",
    "        return  fromC == receivedfromC"
   ]
  },
  {
   "cell_type": "code",
   "execution_count": 3,
   "id": "f952e239-c65f-457a-ac06-1f548c4d438a",
   "metadata": {},
   "outputs": [],
   "source": [
    "# x,y are the values randomly sent by C (Charlie) to Alice and Bob\n",
    "# a,b are the responses sent back to C by A and B\n",
    "# Bob and Alice best classic strategy 75% success is to agree to send always the same. \n",
    "# 0 or 1 do not make any difference as long as they are the same \n",
    "def AliceClassicStrategy (x):\n",
    "      return  1\n",
    "\n",
    "def BobClassicStrategy (y):\n",
    "      return  1"
   ]
  },
  {
   "cell_type": "code",
   "execution_count": 4,
   "id": "b4f97b40-9a7c-41d0-9c37-5af2e2888f45",
   "metadata": {},
   "outputs": [
    {
     "name": "stdout",
     "output_type": "stream",
     "text": [
      "75.051 % Classic Success Rate\n"
     ]
    }
   ],
   "source": [
    "N = 100000\n",
    "success = 0\n",
    "for i in range(N):\n",
    "    x= random.randint(0,1)\n",
    "    y= random.randint(0,1)\n",
    "    result = CHSHwin(x,y,AliceClassicStrategy(x),BobClassicStrategy(y))\n",
    "    if result == True:\n",
    "        success += 1\n",
    "\n",
    "print (100*success/N,\"% Classic Success Rate\")"
   ]
  },
  {
   "cell_type": "markdown",
   "id": "e0a6cad4-5ae6-4e32-9fe8-c16c44a8aa95",
   "metadata": {},
   "source": [
    "## Classic Strategy Represented in Quantum Circuit\n",
    "Now we are going to create a quantum circuit to simulate random selection of x, y.\n",
    "Also we will use Qiskit simulation to get the results of the Classic Strategy"
   ]
  },
  {
   "cell_type": "code",
   "execution_count": 5,
   "id": "8b945cc4-7aab-48e2-a317-16eff2ed0cb6",
   "metadata": {},
   "outputs": [
    {
     "data": {
      "image/png": "[encoded data removed]",
      "text/plain": [
       "<Figure size 394.751x325.08 with 1 Axes>"
      ]
     },
     "execution_count": 5,
     "metadata": {},
     "output_type": "execute_result"
    }
   ],
   "source": [
    "q = QuantumRegister(2, name=\"random\")\n",
    "c = ClassicalRegister(4, name=\"x,y,a,b\")\n",
    "a = QuantumRegister(1, name=\"a\")\n",
    "b = QuantumRegister(1, name=\"b\")\n",
    "\n",
    "qc = QuantumCircuit(q, a, b, c)\n",
    "\n",
    "qc.h(q[0])\n",
    "qc.h(q[1])\n",
    "qc.measure(q[0],c[0])\n",
    "qc.measure(q[1],c[1])\n",
    "qc.measure(a[0],c[2])\n",
    "qc.measure(b[0],c[3])\n",
    "\n",
    "qc.draw('mpl')"
   ]
  },
  {
   "cell_type": "markdown",
   "id": "873171ef-e137-4fd7-a495-2536773ba733",
   "metadata": {},
   "source": [
    "The simulation gill give how many hits each of the x,y,a,b combination will give"
   ]
  },
  {
   "cell_type": "code",
   "execution_count": 6,
   "id": "d8b5b8a2-4c34-4971-a5fc-6af970a97016",
   "metadata": {},
   "outputs": [
    {
     "name": "stdout",
     "output_type": "stream",
     "text": [
      "{'0011': 2013, '0000': 1941, '0010': 2014, '0001': 2032}\n"
     ]
    }
   ],
   "source": [
    "# Execute the job \n",
    "job = backend.run(transpile(qc, backend),shots=8000)\n",
    "counts = job.result().get_counts(qc)\n",
    "print (counts)"
   ]
  },
  {
   "cell_type": "markdown",
   "id": "7f09958a-8a4a-46f4-b005-488271a734ac",
   "metadata": {},
   "source": [
    "Following function will calculate the success rate of the experiment ( % of experiments that CHSH \"Won\" )"
   ]
  },
  {
   "cell_type": "code",
   "execution_count": 7,
   "id": "dbae33b1-1c09-4ba1-8a21-59d4eb627bad",
   "metadata": {},
   "outputs": [
    {
     "name": "stdout",
     "output_type": "stream",
     "text": [
      "74.8375 % Classic Success Rate\n"
     ]
    }
   ],
   "source": [
    "# Extract the results and see which ones is a win in CHCS Game\n",
    "def QuantumSuccessMetric(counts):\n",
    "    successes = collections.defaultdict(int)\n",
    "    failures = collections.defaultdict(int)\n",
    "    \n",
    "    for key, value in counts.items():\n",
    "        minisuccess = CHSHwin (int(key[3]),int(key[2]),int(key[1]),int(key[0]))\n",
    "        if minisuccess == True:\n",
    "            successes[key[0]] += value\n",
    "        else:\n",
    "            failures[key[0]] += value\n",
    "    return successes, failures\n",
    "\n",
    "sim_successes, sim_failures = QuantumSuccessMetric(counts)\n",
    "\n",
    "# PRINT percentage of the results were successful\n",
    "print (100*(sum(sim_successes.values()) / sum(counts.values())),\"% Classic Success Rate\")"
   ]
  },
  {
   "cell_type": "markdown",
   "id": "0d21aa62-a35f-43fe-9a9e-3b09df176426",
   "metadata": {},
   "source": [
    "## Now Lets explore the Quantum Strategy for CHSH Game with entangled Pairs\n",
    "Both Alice and Bob will share an entangled qubit pair\n",
    "\n",
    "\n",
    "Alice strategy will be to Measure in computational basis if she receives 0 ('x' = 0), and she will measure in $|+\\rangle$ / $|-\\rangle$ basis if she receives 1. Then she will return measurements result (0 or 1). Note that measuring in the $|+\\rangle$ / $|-\\rangle$ is like rotating the Bloch Sphere $\\pi/2$ along the Y axis.\n",
    "\n",
    "\n",
    "Bob strategy will be to rotate by an angle $\\pi/4$ or $-\\pi/4$ in the Bloch Sphere ( it is really $\\pi/8$ rotation in Hilbert Space ) depending if he receives 0 or 1 in 'y' value from Charlie. Then he will measure in computational basis and will return measurements result (0 or 1)"
   ]
  },
  {
   "cell_type": "code",
   "execution_count": 8,
   "id": "25f81f73-a3cc-404c-bd12-245f0add6a89",
   "metadata": {},
   "outputs": [
    {
     "data": {
      "image/png": "[encoded data removed]",
      "text/plain": [
       "<Figure size 695.751x325.08 with 1 Axes>"
      ]
     },
     "execution_count": 8,
     "metadata": {},
     "output_type": "execute_result"
    }
   ],
   "source": [
    "q = QuantumRegister(2, name=\"random\")\n",
    "c = ClassicalRegister(4, name=\"x,y,a,b\")\n",
    "a = QuantumRegister(1, name=\"a\")\n",
    "b = QuantumRegister(1, name=\"b\")\n",
    "\n",
    "qc = QuantumCircuit(q, a, b, c)\n",
    "\n",
    "qc.h(q[0])\n",
    "qc.h(q[1])\n",
    "qc.measure(q[0],c[0])\n",
    "qc.measure(q[1],c[1])\n",
    "\n",
    "qc.h(a[0])\n",
    "qc.cnot(a[0],b[0])\n",
    "\n",
    "qc.ry(np.pi/2,a[0]).c_if(c[0],1)\n",
    "qc.measure(a[0],c[2])\n",
    "\n",
    "qc.ry(np.pi/4,b[0]).c_if(c[1],0)\n",
    "qc.ry(-np.pi/4,b[0]).c_if(c[1],1)\n",
    "qc.measure(b[0],c[3])\n",
    "\n",
    "\n",
    "qc.draw('mpl')"
   ]
  },
  {
   "cell_type": "markdown",
   "id": "5e1d3b6b-dece-4c3f-9026-63b902b80b73",
   "metadata": {},
   "source": [
    "The simulation gill give how many hits each of the x,y,a,b combination will give"
   ]
  },
  {
   "cell_type": "code",
   "execution_count": 9,
   "id": "d514a516-2dae-4d6e-b561-820d69c1f3ea",
   "metadata": {},
   "outputs": [
    {
     "name": "stdout",
     "output_type": "stream",
     "text": [
      "{'0010': 986, '1110': 967, '0110': 155, '1011': 972, '0111': 976, '1101': 923, '0000': 958, '1100': 967, '1010': 151, '0001': 977, '0100': 158, '0101': 169, '1111': 159, '1000': 158, '0011': 158, '1001': 166}\n"
     ]
    }
   ],
   "source": [
    "# Execute the job \n",
    "job = backend.run(transpile(qc, backend),shots=9000)\n",
    "counts = job.result().get_counts(qc)\n",
    "print (counts)"
   ]
  },
  {
   "cell_type": "markdown",
   "id": "b1b07fc2-6640-452b-a3b1-dcc2f387be6f",
   "metadata": {},
   "source": [
    "Following function will calculate the success rate of the experiment ( % of experiments that CHSH \"Won\" )"
   ]
  },
  {
   "cell_type": "code",
   "execution_count": 10,
   "id": "cd1bf2f9-a072-468d-b5e4-8c59349c3d2f",
   "metadata": {},
   "outputs": [
    {
     "name": "stdout",
     "output_type": "stream",
     "text": [
      "\u001b[1;3m 85.84444444444445 % Quantum CHSH Success Rate\n"
     ]
    }
   ],
   "source": [
    "sim_successes, sim_failures = QuantumSuccessMetric(counts)\n",
    "\n",
    "# PRINT percentage of the results were successful\n",
    "print ('\\033[1;3m',100*(sum(sim_successes.values()) / sum(counts.values())),\"% Quantum CHSH Success Rate\")"
   ]
  },
  {
   "cell_type": "markdown",
   "id": "d1d53197-4f4b-44bc-9534-ae40e5df55fe",
   "metadata": {},
   "source": [
    "As we can see the result of the experiment is near to the theoretical value $ {\\textstyle \\cos ^{2}\\left({\\frac {\\pi }{8}}\\right)=85.35533\\%\\approx 85\\%}$"
   ]
  }
 ],
 "metadata": {
  "kernelspec": {
   "display_name": "Python 3 (ipykernel)",
   "language": "python",
   "name": "python3"
  },
  "language_info": {
   "codemirror_mode": {
    "name": "ipython",
    "version": 3
   },
   "file_extension": ".py",
   "mimetype": "text/x-python",
   "name": "python",
   "nbconvert_exporter": "python",
   "pygments_lexer": "ipython3",
   "version": "3.8.13"
  },
  "widgets": {
   "application/vnd.jupyter.widget-state+json": {
    "state": {
     "00d5c83b91794a5ea1598f8309861432": {
      "model_module": "@jupyter-widgets/controls",
      "model_module_version": "1.5.0",
      "model_name": "HTMLModel",
      "state": {
       "layout": "IPY_MODEL_3890259a97e74142884582d345038c73",
       "style": "IPY_MODEL_25e8a1de150742aaa19c18b66e2540bd",
       "value": "<h5>Message</h5>"
      }
     },
     "103f4944f76d4ce990bc58e5c7fe7043": {
      "model_module": "@jupyter-widgets/controls",
      "model_module_version": "1.5.0",
      "model_name": "HTMLModel",
      "state": {
       "layout": "IPY_MODEL_92e0177c98534df5a4c1a67a5ca88d44",
       "style": "IPY_MODEL_d4d766aafc974fe7826346d4bf739893",
       "value": "<h5>Job ID</h5>"
      }
     },
     "1d8f291f00d840beb8c1cf9fcce3395e": {
      "model_module": "@jupyter-widgets/controls",
      "model_module_version": "1.5.0",
      "model_name": "HTMLModel",
      "state": {
       "layout": "IPY_MODEL_8fc6d501cff043588449e7cbb3e8e1ad",
       "style": "IPY_MODEL_bdf12bbccf9c454f8cadab0062a62eda",
       "value": "<h5>Queue</h5>"
      }
     },
     "25e8a1de150742aaa19c18b66e2540bd": {
      "model_module": "@jupyter-widgets/controls",
      "model_module_version": "1.5.0",
      "model_name": "DescriptionStyleModel",
      "state": {
       "description_width": ""
      }
     },
     "2d17738a044e4fb5ac4b0df3bdeba100": {
      "model_module": "@jupyter-widgets/controls",
      "model_module_version": "1.5.0",
      "model_name": "ButtonModel",
      "state": {
       "button_style": "primary",
       "description": "Clear",
       "layout": "IPY_MODEL_32c1b2026f04433391108f9012740fbc",
       "style": "IPY_MODEL_e38bd60631464ff78da9f083d1d47d02"
      }
     },
     "32c1b2026f04433391108f9012740fbc": {
      "model_module": "@jupyter-widgets/base",
      "model_module_version": "1.2.0",
      "model_name": "LayoutModel",
      "state": {
       "grid_area": "right",
       "padding": "0px 0px 0px 0px",
       "width": "70px"
      }
     },
     "3890259a97e74142884582d345038c73": {
      "model_module": "@jupyter-widgets/base",
      "model_module_version": "1.2.0",
      "model_name": "LayoutModel",
      "state": {}
     },
     "5d5eace4bda1437db5d0ddd347f0dfed": {
      "model_module": "@jupyter-widgets/controls",
      "model_module_version": "1.5.0",
      "model_name": "DescriptionStyleModel",
      "state": {
       "description_width": ""
      }
     },
     "6811513af4f7430088c76414042d0bb1": {
      "model_module": "@jupyter-widgets/controls",
      "model_module_version": "1.5.0",
      "model_name": "HTMLModel",
      "state": {
       "layout": "IPY_MODEL_e6ded13bc7804773b4c4a21076647832",
       "style": "IPY_MODEL_ae0134b9a03c479d9fe0028c684a9460",
       "value": "<h5>Status</h5>"
      }
     },
     "8fc6d501cff043588449e7cbb3e8e1ad": {
      "model_module": "@jupyter-widgets/base",
      "model_module_version": "1.2.0",
      "model_name": "LayoutModel",
      "state": {
       "width": "70px"
      }
     },
     "90057fcb6a4d4e59adefded0ca761bfd": {
      "model_module": "@jupyter-widgets/controls",
      "model_module_version": "1.5.0",
      "model_name": "HTMLModel",
      "state": {
       "layout": "IPY_MODEL_9cf9af5835ed45ee9080469c48f5af9e",
       "style": "IPY_MODEL_962879302464418a975b60cdea0ee249",
       "value": "<h5>Backend</h5>"
      }
     },
     "92e0177c98534df5a4c1a67a5ca88d44": {
      "model_module": "@jupyter-widgets/base",
      "model_module_version": "1.2.0",
      "model_name": "LayoutModel",
      "state": {
       "width": "190px"
      }
     },
     "962879302464418a975b60cdea0ee249": {
      "model_module": "@jupyter-widgets/controls",
      "model_module_version": "1.5.0",
      "model_name": "DescriptionStyleModel",
      "state": {
       "description_width": ""
      }
     },
     "9c10e5dbcae5439eb4ea3f98cd4c4c35": {
      "model_module": "@jupyter-widgets/base",
      "model_module_version": "1.2.0",
      "model_name": "LayoutModel",
      "state": {
       "margin": "0px 0px 10px 0px"
      }
     },
     "9cf9af5835ed45ee9080469c48f5af9e": {
      "model_module": "@jupyter-widgets/base",
      "model_module_version": "1.2.0",
      "model_name": "LayoutModel",
      "state": {
       "width": "145px"
      }
     },
     "a0fa66b4882843b4b1039dcf79c3c1d0": {
      "model_module": "@jupyter-widgets/controls",
      "model_module_version": "1.5.0",
      "model_name": "HTMLModel",
      "state": {
       "layout": "IPY_MODEL_9c10e5dbcae5439eb4ea3f98cd4c4c35",
       "style": "IPY_MODEL_5d5eace4bda1437db5d0ddd347f0dfed",
       "value": "<p style='font-family: IBM Plex Sans, Arial, Helvetica, sans-serif; font-size: 20px; font-weight: medium;'>Circuit Properties</p>"
      }
     },
     "a40c9834a36e4f108a51f75804b282f9": {
      "model_module": "@jupyter-widgets/controls",
      "model_module_version": "1.5.0",
      "model_name": "GridBoxModel",
      "state": {
       "children": [
        "IPY_MODEL_2d17738a044e4fb5ac4b0df3bdeba100"
       ],
       "layout": "IPY_MODEL_dca4e7eee40d46a7ac9d4636603c2b3f"
      }
     },
     "ae0134b9a03c479d9fe0028c684a9460": {
      "model_module": "@jupyter-widgets/controls",
      "model_module_version": "1.5.0",
      "model_name": "DescriptionStyleModel",
      "state": {
       "description_width": ""
      }
     },
     "b3e2be6c73f94601a15bc54309c38320": {
      "model_module": "@jupyter-widgets/base",
      "model_module_version": "1.2.0",
      "model_name": "LayoutModel",
      "state": {
       "margin": "0px 0px 0px 37px",
       "width": "600px"
      }
     },
     "bdf12bbccf9c454f8cadab0062a62eda": {
      "model_module": "@jupyter-widgets/controls",
      "model_module_version": "1.5.0",
      "model_name": "DescriptionStyleModel",
      "state": {
       "description_width": ""
      }
     },
     "d4d766aafc974fe7826346d4bf739893": {
      "model_module": "@jupyter-widgets/controls",
      "model_module_version": "1.5.0",
      "model_name": "DescriptionStyleModel",
      "state": {
       "description_width": ""
      }
     },
     "dca4e7eee40d46a7ac9d4636603c2b3f": {
      "model_module": "@jupyter-widgets/base",
      "model_module_version": "1.2.0",
      "model_name": "LayoutModel",
      "state": {
       "grid_template_areas": "\n                                       \". . . . right \"\n                                        ",
       "grid_template_columns": "20% 20% 20% 20% 20%",
       "width": "100%"
      }
     },
     "e38bd60631464ff78da9f083d1d47d02": {
      "model_module": "@jupyter-widgets/controls",
      "model_module_version": "1.5.0",
      "model_name": "ButtonStyleModel",
      "state": {}
     },
     "e6ded13bc7804773b4c4a21076647832": {
      "model_module": "@jupyter-widgets/base",
      "model_module_version": "1.2.0",
      "model_name": "LayoutModel",
      "state": {
       "width": "95px"
      }
     },
     "eb55ea46977043f1b4c18dda42564779": {
      "model_module": "@jupyter-widgets/controls",
      "model_module_version": "1.5.0",
      "model_name": "HBoxModel",
      "state": {
       "children": [
        "IPY_MODEL_103f4944f76d4ce990bc58e5c7fe7043",
        "IPY_MODEL_90057fcb6a4d4e59adefded0ca761bfd",
        "IPY_MODEL_6811513af4f7430088c76414042d0bb1",
        "IPY_MODEL_1d8f291f00d840beb8c1cf9fcce3395e",
        "IPY_MODEL_00d5c83b91794a5ea1598f8309861432"
       ],
       "layout": "IPY_MODEL_b3e2be6c73f94601a15bc54309c38320"
      }
     }
    },
    "version_major": 2,
    "version_minor": 0
   }
  }
 },
 "nbformat": 4,
 "nbformat_minor": 5
}
